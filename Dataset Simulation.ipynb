{
 "cells": [
  {
   "cell_type": "markdown",
   "metadata": {},
   "source": [
    "# Simulating a Dataset"
   ]
  },
  {
   "cell_type": "markdown",
   "metadata": {},
   "source": [
    "## 1. Obesity in Young People\n",
    "\n",
    "### Classification of Obesity Severity\n",
    "\n",
    "#### BMI (kg/m2)\tCategory\tRisk of illness and early death\n",
    "18 - 25\tNormal\t Normal\n",
    "25 - 30\tOverweight\t Mildly increased\n",
    "30 - 35\tClass 1 obesity\t Moderately raised\n",
    "35 - 40\tClass 2 obesity\t Severely raised\n",
    "> 40\tClass 3 obesity\t Very severely raised"
   ]
  },
  {
   "cell_type": "markdown",
   "metadata": {},
   "source": [
    "## 2. Variables to be Considered\n",
    "\n",
    "### Risk Factors\n",
    "\n",
    "\n",
    "### Prediction Variable\n",
    "Body Mass Index (BMI)\n",
    "\n"
   ]
  },
  {
   "cell_type": "markdown",
   "metadata": {},
   "source": [
    "## 3. Data Synthesis"
   ]
  },
  {
   "cell_type": "markdown",
   "metadata": {},
   "source": [
    "## 4. References\n",
    "\n",
    "### 1. http://www.irishhealth.com/calc/bmi01.html"
   ]
  },
  {
   "cell_type": "markdown",
   "metadata": {},
   "source": []
  },
  {
   "cell_type": "code",
   "execution_count": null,
   "metadata": {},
   "outputs": [],
   "source": []
  }
 ],
 "metadata": {
  "kernelspec": {
   "display_name": "Python 3",
   "language": "python",
   "name": "python3"
  },
  "language_info": {
   "codemirror_mode": {
    "name": "ipython",
    "version": 3
   },
   "file_extension": ".py",
   "mimetype": "text/x-python",
   "name": "python",
   "nbconvert_exporter": "python",
   "pygments_lexer": "ipython3",
   "version": "3.7.0"
  }
 },
 "nbformat": 4,
 "nbformat_minor": 2
}
